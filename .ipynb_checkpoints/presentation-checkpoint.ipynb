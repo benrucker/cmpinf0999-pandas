{
 "cells": [
  {
   "cell_type": "markdown",
   "metadata": {},
   "source": [
    "# The Best Neighborhood in Pittsburgh\n",
    "\n",
    "Our task was to figure out which neighborhood in Pittsburgh, PA is the best out of them all. "
   ]
  },
  {
   "cell_type": "code",
   "execution_count": null,
   "metadata": {},
   "outputs": [],
   "source": [
    "import sys\n",
    "import pandas as pd\n",
    "!{sys.executable} -m pip install geopy --user\n",
    "from geopy.geocoders import Nominatim\n",
    "import geopy\n",
    "%matplotlib inline\n",
    "import matplotlib.pyplot as plt"
   ]
  },
  {
   "cell_type": "markdown",
   "metadata": {},
   "source": [
    "### Metric\n",
    "\n",
    "We determined that the best way to quantify the 'best' neighborhood is to find the one that is the most happy! In order to determine happiness, we looked at a few key factors in determining a community's happiness.\n",
    "\n",
    "### Key Happiness Factors\n",
    "\n",
    "When it comes to happiness, leisure is a top factor. Within leisure, we found multiple amenities that contributed towards the possible leisure of a neighborhood.\n",
    "\n",
    "One amenity is recreation, such as parks and playgrounds. We all know that `more slides = more happy`, so we looked at the number of documented slides in every neighborhood. \n",
    "\n",
    "Up next, an amenity that we can all relate to is _internet speed_. Better internet makes people more happy, so we took a look at average internet speeds in each neighborhood.\n",
    "\n"
   ]
  },
  {
   "cell_type": "code",
   "execution_count": null,
   "metadata": {},
   "outputs": [],
   "source": []
  }
 ],
 "metadata": {
  "kernelspec": {
   "display_name": "Python 3.7",
   "language": "python",
   "name": "python3"
  },
  "language_info": {
   "codemirror_mode": {
    "name": "ipython",
    "version": 3
   },
   "file_extension": ".py",
   "mimetype": "text/x-python",
   "name": "python",
   "nbconvert_exporter": "python",
   "pygments_lexer": "ipython3",
   "version": "3.7.0"
  }
 },
 "nbformat": 4,
 "nbformat_minor": 2
}
