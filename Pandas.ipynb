{
 "cells": [
  {
   "cell_type": "markdown",
   "metadata": {},
   "source": [
    "# How to do a few useful things with Pandas and the WPRDC\n",
    "\n",
    "This notebook will show you how to do some basic data manipulation and analysis tasks with [Pandas](https://pandas.pydata.org/) using data from the [Western Pennsylvania Regional Datacenter(WPRDC)](http://www.wprdc.org/).\n",
    "\n",
    "- How to find a dataset on the WPRDC\n",
    "- How to read a data dictionary to learn about a dataset\n",
    "- How to open a CSV file\n",
    "- How to do basic maths on numerical columns\n",
    "- How to count values on categorical columns\n",
    "- How to group by a column and then do maths or count\n",
    "- How to create a histogram of one column\n",
    "- How to create a bar chart of categorical and numerical data\n",
    "- How to create a line chart of temporal and numerical data"
   ]
  },
  {
   "cell_type": "code",
   "execution_count": 3,
   "metadata": {},
   "outputs": [],
   "source": [
    "# load the libraries first!\n",
    "import pandas as pd\n",
    "%matplotlib inline"
   ]
  },
  {
   "cell_type": "markdown",
   "metadata": {},
   "source": [
    "## How to find a dataset on the WPRDC\n",
    "\n",
    "* Go to https://data.wprdc.org/dataset \n",
    "* Browse the top datasets or search for keywords"
   ]
  },
  {
   "cell_type": "markdown",
   "metadata": {},
   "source": [
    "## How to read a data dictionary to learn about a dataset"
   ]
  },
  {
   "cell_type": "markdown",
   "metadata": {},
   "source": [
    "* Visit a dataset page, like [the police blotter archive](https://data.wprdc.org/dataset/uniform-crime-reporting-data)\n",
    "* Click on the \"Archived Police Incident Blotter Data Dictionary\" Preview button\n",
    "* The data dictionary is a spreadsheet that tells you what each column represents."
   ]
  },
  {
   "cell_type": "markdown",
   "metadata": {},
   "source": [
    "## How to open a CSV file from your machine\n",
    "\n",
    "* The [City of Pittsburgh Trees](https://data.wprdc.org/dataset/city-trees) data has alread been downloaded to this repository in a file called `trees.data`"
   ]
  },
  {
   "cell_type": "code",
   "execution_count": 7,
   "metadata": {},
   "outputs": [
    {
     "name": "stderr",
     "output_type": "stream",
     "text": [
      "/ihome/crc/install/python/miniconda3-3.7/lib/python3.7/site-packages/IPython/core/interactiveshell.py:2785: DtypeWarning: Columns (1) have mixed types. Specify dtype option on import or set low_memory=False.\n",
      "  interactivity=interactivity, compiler=compiler, result=result)\n"
     ]
    },
    {
     "data": {
      "text/html": [
       "<div>\n",
       "<style scoped>\n",
       "    .dataframe tbody tr th:only-of-type {\n",
       "        vertical-align: middle;\n",
       "    }\n",
       "\n",
       "    .dataframe tbody tr th {\n",
       "        vertical-align: top;\n",
       "    }\n",
       "\n",
       "    .dataframe thead th {\n",
       "        text-align: right;\n",
       "    }\n",
       "</style>\n",
       "<table border=\"1\" class=\"dataframe\">\n",
       "  <thead>\n",
       "    <tr style=\"text-align: right;\">\n",
       "      <th></th>\n",
       "      <th>id</th>\n",
       "      <th>address_number</th>\n",
       "      <th>street</th>\n",
       "      <th>common_name</th>\n",
       "      <th>scientific_name</th>\n",
       "      <th>height</th>\n",
       "      <th>width</th>\n",
       "      <th>growth_space_length</th>\n",
       "      <th>growth_space_width</th>\n",
       "      <th>growth_space_type</th>\n",
       "      <th>...</th>\n",
       "      <th>neighborhood</th>\n",
       "      <th>council_district</th>\n",
       "      <th>ward</th>\n",
       "      <th>tract</th>\n",
       "      <th>public_works_division</th>\n",
       "      <th>pli_division</th>\n",
       "      <th>police_zone</th>\n",
       "      <th>fire_zone</th>\n",
       "      <th>latitude</th>\n",
       "      <th>longitude</th>\n",
       "    </tr>\n",
       "  </thead>\n",
       "  <tbody>\n",
       "    <tr>\n",
       "      <th>0</th>\n",
       "      <td>545537040</td>\n",
       "      <td>6720</td>\n",
       "      <td>GREENWOOD ST</td>\n",
       "      <td>Spruce: Colorado</td>\n",
       "      <td>Picea pungens</td>\n",
       "      <td>39.0</td>\n",
       "      <td>9.0</td>\n",
       "      <td>99.0</td>\n",
       "      <td>99.0</td>\n",
       "      <td>Open or Unrestricted</td>\n",
       "      <td>...</td>\n",
       "      <td>Morningside</td>\n",
       "      <td>7.0</td>\n",
       "      <td>10.0</td>\n",
       "      <td>42003101400</td>\n",
       "      <td>2.0</td>\n",
       "      <td>10.0</td>\n",
       "      <td>5.0</td>\n",
       "      <td>3-7</td>\n",
       "      <td>40.486831</td>\n",
       "      <td>-79.927939</td>\n",
       "    </tr>\n",
       "    <tr>\n",
       "      <th>1</th>\n",
       "      <td>1184404447</td>\n",
       "      <td>6100</td>\n",
       "      <td>EAST LIBERTY BLVD</td>\n",
       "      <td>Pear: Callery</td>\n",
       "      <td>Pyrus calleryana</td>\n",
       "      <td>24.0</td>\n",
       "      <td>7.0</td>\n",
       "      <td>99.0</td>\n",
       "      <td>27.0</td>\n",
       "      <td>Median</td>\n",
       "      <td>...</td>\n",
       "      <td>East Liberty</td>\n",
       "      <td>9.0</td>\n",
       "      <td>11.0</td>\n",
       "      <td>42003111300</td>\n",
       "      <td>2.0</td>\n",
       "      <td>11.0</td>\n",
       "      <td>5.0</td>\n",
       "      <td>3-8</td>\n",
       "      <td>40.465343</td>\n",
       "      <td>-79.920659</td>\n",
       "    </tr>\n",
       "    <tr>\n",
       "      <th>2</th>\n",
       "      <td>316598882</td>\n",
       "      <td>400</td>\n",
       "      <td>NEGLEY RUN BLVD</td>\n",
       "      <td>Cherry/Plum: spp.</td>\n",
       "      <td>Prunus spp.</td>\n",
       "      <td>8.0</td>\n",
       "      <td>3.0</td>\n",
       "      <td>99.0</td>\n",
       "      <td>9.0</td>\n",
       "      <td>Median</td>\n",
       "      <td>...</td>\n",
       "      <td>Larimer</td>\n",
       "      <td>9.0</td>\n",
       "      <td>11.0</td>\n",
       "      <td>42003111300</td>\n",
       "      <td>2.0</td>\n",
       "      <td>11.0</td>\n",
       "      <td>5.0</td>\n",
       "      <td>3-8</td>\n",
       "      <td>40.465729</td>\n",
       "      <td>-79.919438</td>\n",
       "    </tr>\n",
       "    <tr>\n",
       "      <th>3</th>\n",
       "      <td>1560422223</td>\n",
       "      <td>1200</td>\n",
       "      <td>MURRAY HILL AVE</td>\n",
       "      <td>Vacant Site Small</td>\n",
       "      <td>Vacant Site Small</td>\n",
       "      <td>NaN</td>\n",
       "      <td>NaN</td>\n",
       "      <td>NaN</td>\n",
       "      <td>NaN</td>\n",
       "      <td>Tree Lawn or Parkway</td>\n",
       "      <td>...</td>\n",
       "      <td>Squirrel Hill North</td>\n",
       "      <td>8.0</td>\n",
       "      <td>14.0</td>\n",
       "      <td>42003140200</td>\n",
       "      <td>3.0</td>\n",
       "      <td>14.0</td>\n",
       "      <td>4.0</td>\n",
       "      <td>2-17</td>\n",
       "      <td>40.446159</td>\n",
       "      <td>-79.925766</td>\n",
       "    </tr>\n",
       "    <tr>\n",
       "      <th>4</th>\n",
       "      <td>1748576446</td>\n",
       "      <td>2625</td>\n",
       "      <td>LIBERTY AVE</td>\n",
       "      <td>Vacant Site Not Suitable</td>\n",
       "      <td>Vacant Site Not Suitable</td>\n",
       "      <td>NaN</td>\n",
       "      <td>NaN</td>\n",
       "      <td>NaN</td>\n",
       "      <td>NaN</td>\n",
       "      <td>Well or Pit</td>\n",
       "      <td>...</td>\n",
       "      <td>Strip District</td>\n",
       "      <td>7.0</td>\n",
       "      <td>2.0</td>\n",
       "      <td>42003020300</td>\n",
       "      <td>6.0</td>\n",
       "      <td>2.0</td>\n",
       "      <td>2.0</td>\n",
       "      <td>2-25</td>\n",
       "      <td>40.455189</td>\n",
       "      <td>-79.976694</td>\n",
       "    </tr>\n",
       "  </tbody>\n",
       "</table>\n",
       "<p>5 rows × 58 columns</p>\n",
       "</div>"
      ],
      "text/plain": [
       "           id address_number             street               common_name  \\\n",
       "0   545537040           6720       GREENWOOD ST          Spruce: Colorado   \n",
       "1  1184404447           6100  EAST LIBERTY BLVD             Pear: Callery   \n",
       "2   316598882            400    NEGLEY RUN BLVD         Cherry/Plum: spp.   \n",
       "3  1560422223           1200    MURRAY HILL AVE         Vacant Site Small   \n",
       "4  1748576446           2625        LIBERTY AVE  Vacant Site Not Suitable   \n",
       "\n",
       "            scientific_name  height  width  growth_space_length  \\\n",
       "0             Picea pungens    39.0    9.0                 99.0   \n",
       "1          Pyrus calleryana    24.0    7.0                 99.0   \n",
       "2               Prunus spp.     8.0    3.0                 99.0   \n",
       "3         Vacant Site Small     NaN    NaN                  NaN   \n",
       "4  Vacant Site Not Suitable     NaN    NaN                  NaN   \n",
       "\n",
       "   growth_space_width     growth_space_type    ...             neighborhood  \\\n",
       "0                99.0  Open or Unrestricted    ...              Morningside   \n",
       "1                27.0                Median    ...             East Liberty   \n",
       "2                 9.0                Median    ...                  Larimer   \n",
       "3                 NaN  Tree Lawn or Parkway    ...      Squirrel Hill North   \n",
       "4                 NaN           Well or Pit    ...           Strip District   \n",
       "\n",
       "   council_district  ward        tract public_works_division  pli_division  \\\n",
       "0               7.0  10.0  42003101400                   2.0          10.0   \n",
       "1               9.0  11.0  42003111300                   2.0          11.0   \n",
       "2               9.0  11.0  42003111300                   2.0          11.0   \n",
       "3               8.0  14.0  42003140200                   3.0          14.0   \n",
       "4               7.0   2.0  42003020300                   6.0           2.0   \n",
       "\n",
       "   police_zone  fire_zone   latitude  longitude  \n",
       "0          5.0        3-7  40.486831 -79.927939  \n",
       "1          5.0        3-8  40.465343 -79.920659  \n",
       "2          5.0        3-8  40.465729 -79.919438  \n",
       "3          4.0       2-17  40.446159 -79.925766  \n",
       "4          2.0       2-25  40.455189 -79.976694  \n",
       "\n",
       "[5 rows x 58 columns]"
      ]
     },
     "execution_count": 7,
     "metadata": {},
     "output_type": "execute_result"
    }
   ],
   "source": [
    "tree_data = pd.read_csv(\"trees.csv\")\n",
    "tree_data.head() # ignore the warning"
   ]
  },
  {
   "cell_type": "markdown",
   "metadata": {},
   "source": [
    "## How to open a CSV file from the web\n",
    "\n",
    "* You can open CSV files directly from the web\n",
    "* If you right click the download link you can copy the link to clipboard and use it in a variable to pass to the `read_csv` function.\n",
    "* This examples uses the [police blotter dataset](https://data.wprdc.org/dataset/uniform-crime-reporting-data)"
   ]
  },
  {
   "cell_type": "code",
   "execution_count": 8,
   "metadata": {},
   "outputs": [
    {
     "data": {
      "text/html": [
       "<div>\n",
       "<style scoped>\n",
       "    .dataframe tbody tr th:only-of-type {\n",
       "        vertical-align: middle;\n",
       "    }\n",
       "\n",
       "    .dataframe tbody tr th {\n",
       "        vertical-align: top;\n",
       "    }\n",
       "\n",
       "    .dataframe thead th {\n",
       "        text-align: right;\n",
       "    }\n",
       "</style>\n",
       "<table border=\"1\" class=\"dataframe\">\n",
       "  <thead>\n",
       "    <tr style=\"text-align: right;\">\n",
       "      <th></th>\n",
       "      <th>PK</th>\n",
       "      <th>CCR</th>\n",
       "      <th>HIERARCHY</th>\n",
       "      <th>INCIDENTTIME</th>\n",
       "      <th>INCIDENTLOCATION</th>\n",
       "      <th>CLEAREDFLAG</th>\n",
       "      <th>INCIDENTNEIGHBORHOOD</th>\n",
       "      <th>INCIDENTZONE</th>\n",
       "      <th>INCIDENTHIERARCHYDESC</th>\n",
       "      <th>OFFENSES</th>\n",
       "      <th>INCIDENTTRACT</th>\n",
       "      <th>COUNCIL_DISTRICT</th>\n",
       "      <th>PUBLIC_WORKS_DIVISION</th>\n",
       "      <th>X</th>\n",
       "      <th>Y</th>\n",
       "    </tr>\n",
       "  </thead>\n",
       "  <tbody>\n",
       "    <tr>\n",
       "      <th>0</th>\n",
       "      <td>2868421</td>\n",
       "      <td>16202072.0</td>\n",
       "      <td>99</td>\n",
       "      <td>2016-10-26T04:00:00</td>\n",
       "      <td>2000 Block Centre AV Pittsburgh, PA 15219</td>\n",
       "      <td>Y</td>\n",
       "      <td>Crawford-Roberts</td>\n",
       "      <td>2</td>\n",
       "      <td>NaN</td>\n",
       "      <td>9124 Drug Investigation</td>\n",
       "      <td>305.0</td>\n",
       "      <td>6.0</td>\n",
       "      <td>3.0</td>\n",
       "      <td>-79.979979</td>\n",
       "      <td>40.443581</td>\n",
       "    </tr>\n",
       "    <tr>\n",
       "      <th>1</th>\n",
       "      <td>2874934</td>\n",
       "      <td>16221357.0</td>\n",
       "      <td>99</td>\n",
       "      <td>2016-11-25T18:42:00</td>\n",
       "      <td>Marne WY Pittsburgh, PA 15211</td>\n",
       "      <td>Y</td>\n",
       "      <td>Mount Washington</td>\n",
       "      <td>3</td>\n",
       "      <td>NaN</td>\n",
       "      <td>9999 Miscellaneous Report (No Crime)</td>\n",
       "      <td>1914.0</td>\n",
       "      <td>7.0</td>\n",
       "      <td>2.0</td>\n",
       "      <td>-79.947030</td>\n",
       "      <td>40.463145</td>\n",
       "    </tr>\n",
       "    <tr>\n",
       "      <th>2</th>\n",
       "      <td>2881141</td>\n",
       "      <td>16239016.0</td>\n",
       "      <td>5</td>\n",
       "      <td>2016-12-25T02:24:00</td>\n",
       "      <td>2200 Block Wilner DR Pittsburgh, PA 15221</td>\n",
       "      <td>N</td>\n",
       "      <td>Terrace Village</td>\n",
       "      <td>5</td>\n",
       "      <td>BURGLARY/FORCE ENT/RES</td>\n",
       "      <td>3502 Burglary.</td>\n",
       "      <td>510.0</td>\n",
       "      <td>9.0</td>\n",
       "      <td>2.0</td>\n",
       "      <td>-79.866830</td>\n",
       "      <td>40.453388</td>\n",
       "    </tr>\n",
       "    <tr>\n",
       "      <th>3</th>\n",
       "      <td>2822209</td>\n",
       "      <td>16062438.0</td>\n",
       "      <td>11</td>\n",
       "      <td>2016-04-07T11:30:00</td>\n",
       "      <td>1100 Block Dagmar AV Pittsburgh, PA 15216</td>\n",
       "      <td>N</td>\n",
       "      <td>Beechview</td>\n",
       "      <td>6</td>\n",
       "      <td>IDENTITY THEFT</td>\n",
       "      <td>4120 Identity Theft</td>\n",
       "      <td>1916.0</td>\n",
       "      <td>4.0</td>\n",
       "      <td>5.0</td>\n",
       "      <td>-80.023186</td>\n",
       "      <td>40.417259</td>\n",
       "    </tr>\n",
       "    <tr>\n",
       "      <th>4</th>\n",
       "      <td>2844543</td>\n",
       "      <td>16131818.0</td>\n",
       "      <td>10</td>\n",
       "      <td>2016-07-16T00:27:00</td>\n",
       "      <td>7500 Block Hamilton AV Pittsburgh, PA 15208</td>\n",
       "      <td>N</td>\n",
       "      <td>Homewood South</td>\n",
       "      <td>5</td>\n",
       "      <td>SIMPLE ASSAULT/INJURY</td>\n",
       "      <td>2702 Aggravated Assault.</td>\n",
       "      <td>1303.0</td>\n",
       "      <td>9.0</td>\n",
       "      <td>2.0</td>\n",
       "      <td>-79.892482</td>\n",
       "      <td>40.453422</td>\n",
       "    </tr>\n",
       "  </tbody>\n",
       "</table>\n",
       "</div>"
      ],
      "text/plain": [
       "        PK         CCR  HIERARCHY         INCIDENTTIME  \\\n",
       "0  2868421  16202072.0         99  2016-10-26T04:00:00   \n",
       "1  2874934  16221357.0         99  2016-11-25T18:42:00   \n",
       "2  2881141  16239016.0          5  2016-12-25T02:24:00   \n",
       "3  2822209  16062438.0         11  2016-04-07T11:30:00   \n",
       "4  2844543  16131818.0         10  2016-07-16T00:27:00   \n",
       "\n",
       "                              INCIDENTLOCATION CLEAREDFLAG  \\\n",
       "0    2000 Block Centre AV Pittsburgh, PA 15219           Y   \n",
       "1                Marne WY Pittsburgh, PA 15211           Y   \n",
       "2    2200 Block Wilner DR Pittsburgh, PA 15221           N   \n",
       "3    1100 Block Dagmar AV Pittsburgh, PA 15216           N   \n",
       "4  7500 Block Hamilton AV Pittsburgh, PA 15208           N   \n",
       "\n",
       "  INCIDENTNEIGHBORHOOD INCIDENTZONE   INCIDENTHIERARCHYDESC  \\\n",
       "0     Crawford-Roberts            2                     NaN   \n",
       "1     Mount Washington            3                     NaN   \n",
       "2      Terrace Village            5  BURGLARY/FORCE ENT/RES   \n",
       "3            Beechview            6          IDENTITY THEFT   \n",
       "4       Homewood South            5   SIMPLE ASSAULT/INJURY   \n",
       "\n",
       "                               OFFENSES  INCIDENTTRACT  COUNCIL_DISTRICT  \\\n",
       "0               9124 Drug Investigation          305.0               6.0   \n",
       "1  9999 Miscellaneous Report (No Crime)         1914.0               7.0   \n",
       "2                        3502 Burglary.          510.0               9.0   \n",
       "3                   4120 Identity Theft         1916.0               4.0   \n",
       "4              2702 Aggravated Assault.         1303.0               9.0   \n",
       "\n",
       "   PUBLIC_WORKS_DIVISION          X          Y  \n",
       "0                    3.0 -79.979979  40.443581  \n",
       "1                    2.0 -79.947030  40.463145  \n",
       "2                    2.0 -79.866830  40.453388  \n",
       "3                    5.0 -80.023186  40.417259  \n",
       "4                    2.0 -79.892482  40.453422  "
      ]
     },
     "execution_count": 8,
     "metadata": {},
     "output_type": "execute_result"
    }
   ],
   "source": [
    "# URL that points directly to the police blotter dataset \n",
    "URL = \"https://data.wprdc.org/datastore/dump/044f2016-1dfd-4ab0-bc1e-065da05fca2e\"\n",
    "\n",
    "police_data = pd.read_csv(URL)\n",
    "police_data.head()"
   ]
  },
  {
   "cell_type": "markdown",
   "metadata": {},
   "source": [
    "## How to do basic maths on numerical columns\n",
    "\n",
    "* The tree data contains some numerical columns according to the [data dictionary](https://data.wprdc.org/dataset/city-trees/resource/d47d47da-5044-417c-a24d-8366fd7b1a09) so lets math them"
   ]
  },
  {
   "cell_type": "code",
   "execution_count": 9,
   "metadata": {},
   "outputs": [
    {
     "data": {
      "text/plain": [
       "22.159484114501417"
      ]
     },
     "execution_count": 9,
     "metadata": {},
     "output_type": "execute_result"
    }
   ],
   "source": [
    "# Compute the average height of the trees in pittsburgh\n",
    "tree_data['height'].mean()"
   ]
  },
  {
   "cell_type": "code",
   "execution_count": 10,
   "metadata": {},
   "outputs": [
    {
     "data": {
      "text/plain": [
       "158.0"
      ]
     },
     "execution_count": 10,
     "metadata": {},
     "output_type": "execute_result"
    }
   ],
   "source": [
    "# How tall is the tallest tree in Pittsburgh\n",
    "tree_data['height'].max()"
   ]
  },
  {
   "cell_type": "markdown",
   "metadata": {},
   "source": [
    "## How to count values on categorical columns\n",
    "\n",
    "* The three data also contains some categorical values, like the `common_name` column"
   ]
  },
  {
   "cell_type": "code",
   "execution_count": 12,
   "metadata": {},
   "outputs": [
    {
     "data": {
      "text/plain": [
       "Maple: Norway                        3713\n",
       "Maple: Red                           3421\n",
       "London planetree                     3224\n",
       "Pear: Callery                        2968\n",
       "Vacant Site Small                    2419\n",
       "Linden: Littleleaf                   2411\n",
       "Honeylocust: Thornless               2019\n",
       "Oak: Pin                             1669\n",
       "Crabapple: Flowering                 1293\n",
       "Ginkgo                               1206\n",
       "Stump                                1079\n",
       "Oak: Northern Red                     976\n",
       "Sweetgum: American                    892\n",
       "Vacant Site Not Suitable              846\n",
       "Elm: American                         796\n",
       "Maple: Freeman                        789\n",
       "Maple: Sugar                          712\n",
       "Locust: Black                         688\n",
       "Zelkova: Japanese                     608\n",
       "Maple: Hedge                          573\n",
       "Cherry/Plum: spp.                     566\n",
       "Lilac: Japanese Tree                  564\n",
       "Vacant Site Large                     563\n",
       "Spruce: Colorado                      471\n",
       "Maple: Silver                         434\n",
       "Elm: spp.                             416\n",
       "Hawthorn: spp.                        398\n",
       "Mulberry: White                       385\n",
       "Vacant Site Medium                    363\n",
       "Arborvitae: Eastern                   324\n",
       "                                     ... \n",
       "Pine: Virginia                          1\n",
       "Pine: White Japanese                    1\n",
       "Larch: Golden                           1\n",
       "Sumac: Staghorn                         1\n",
       "Serviceberry: Western                   1\n",
       "Barberry: Japanese                      1\n",
       "Maple: Striped                          1\n",
       "Fringetree: Chinese                     1\n",
       "Pine: Limber                            1\n",
       "Falsecypress: Lawson                    1\n",
       "Pecan                                   1\n",
       "Poplar: White                           1\n",
       "Snowbell: American                      1\n",
       "Apple: Paradise                         1\n",
       "Filbert: American                       1\n",
       "Dogwood: Pagoda                         1\n",
       "Spruce: Engelmann                       1\n",
       "Crabapple: Donald Wyman Flowering       1\n",
       "Fir: Fraser                             1\n",
       "Willow: spp.                            1\n",
       "Elm: Winged                             1\n",
       "Evodia: Korean                          1\n",
       "Magnolia: Bigleaf                       1\n",
       "Dogwood: spp.                           1\n",
       "Poplar: Carolina                        1\n",
       "Elderberry: Common                      1\n",
       "Boxwood: spp.                           1\n",
       "Cryptomeria: Japanese                   1\n",
       "Juniper: spp.                           1\n",
       "Plum: American                          1\n",
       "Name: common_name, Length: 232, dtype: int64"
      ]
     },
     "execution_count": 12,
     "metadata": {},
     "output_type": "execute_result"
    }
   ],
   "source": [
    "tree_data['common_name'].value_counts()"
   ]
  },
  {
   "cell_type": "markdown",
   "metadata": {},
   "source": [
    "## How to group by a column and then to maths or counts\n",
    "\n",
    "* Neighborhood seems like a good column to group by"
   ]
  },
  {
   "cell_type": "code",
   "execution_count": 15,
   "metadata": {},
   "outputs": [
    {
     "data": {
      "text/plain": [
       "neighborhood\n",
       "Allegheny Center              0.794220\n",
       "Allegheny West               15.178378\n",
       "Allentown                    22.378788\n",
       "Arlington                    20.531915\n",
       "Arlington Heights            42.600000\n",
       "Banksville                   28.436019\n",
       "Bedford Dwellings            20.209581\n",
       "Beechview                    26.415945\n",
       "Beltzhoover                  21.049180\n",
       "Bloomfield                   23.995932\n",
       "Bluff                        19.645631\n",
       "Bon Air                      24.771739\n",
       "Brighton Heights             27.962871\n",
       "Brookline                    28.693384\n",
       "California-Kirkbride         26.571429\n",
       "Carrick                      25.075823\n",
       "Central Business District    21.178904\n",
       "Central Lawrenceville        18.567398\n",
       "Central Northside            23.472089\n",
       "Central Oakland              16.318436\n",
       "Chartiers City               35.972973\n",
       "Chateau                      18.441065\n",
       "Crafton Heights              30.046823\n",
       "Crawford-Roberts             21.044681\n",
       "Duquesne Heights             18.730337\n",
       "East Allegheny               22.066667\n",
       "East Carnegie                27.600000\n",
       "East Hills                   37.212121\n",
       "East Liberty                 21.124606\n",
       "Elliott                      30.106383\n",
       "                               ...    \n",
       "Perry North                   9.918803\n",
       "Perry South                  29.545455\n",
       "Point Breeze                 29.618522\n",
       "Point Breeze North           28.349425\n",
       "Polish Hill                  19.921488\n",
       "Regent Square                20.367788\n",
       "Ridgemont                    20.000000\n",
       "Shadyside                    27.746945\n",
       "Sheraden                     29.822148\n",
       "South Oakland                18.904110\n",
       "South Shore                  25.000000\n",
       "South Side Flats             19.755754\n",
       "South Side Slopes            23.066667\n",
       "Spring Garden                21.816327\n",
       "Spring Hill-City View        23.038835\n",
       "Squirrel Hill North          33.100310\n",
       "Squirrel Hill South          13.806197\n",
       "St. Clair                    38.500000\n",
       "Stanton Heights              34.753106\n",
       "Strip District               17.881838\n",
       "Summer Hill                  32.430380\n",
       "Swisshelm Park               31.827731\n",
       "Terrace Village              19.557312\n",
       "Troy Hill                    11.350962\n",
       "Upper Hill                   29.684211\n",
       "Upper Lawrenceville          25.894578\n",
       "West End                     22.084034\n",
       "West Oakland                 16.957746\n",
       "Westwood                     29.581673\n",
       "Windgap                      29.417476\n",
       "Name: height, Length: 90, dtype: float64"
      ]
     },
     "execution_count": 15,
     "metadata": {},
     "output_type": "execute_result"
    }
   ],
   "source": [
    "# Group the dataset by the neighborhood column\n",
    "# Then select the height column\n",
    "# then compute the mean\n",
    "tree_data.groupby('neighborhood')['height'].mean()"
   ]
  },
  {
   "cell_type": "markdown",
   "metadata": {},
   "source": [
    "## How to create a histogram of one column\n",
    "\n",
    "* Histograms are useful for looking at the distrbution of data across a single column"
   ]
  },
  {
   "cell_type": "code",
   "execution_count": 19,
   "metadata": {},
   "outputs": [
    {
     "data": {
      "text/plain": [
       "<matplotlib.axes._subplots.AxesSubplot at 0x7ff71cd48828>"
      ]
     },
     "execution_count": 19,
     "metadata": {},
     "output_type": "execute_result"
    },
    {
     "data": {
      "image/png": "[encoded data removed]",
      "text/plain": [
       "<Figure size 432x288 with 1 Axes>"
      ]
     },
     "metadata": {
      "needs_background": "light"
     },
     "output_type": "display_data"
    }
   ],
   "source": [
    "# select the heigh column \n",
    "# then create a histogram with the hist() function\n",
    "tree_data['height'].plot(kind=\"hist\")"
   ]
  },
  {
   "cell_type": "markdown",
   "metadata": {},
   "source": [
    "## Create bar chart of categorical and numerical data\n"
   ]
  },
  {
   "cell_type": "code",
   "execution_count": 22,
   "metadata": {},
   "outputs": [
    {
     "data": {
      "text/plain": [
       "<matplotlib.axes._subplots.AxesSubplot at 0x7ff71cc608d0>"
      ]
     },
     "execution_count": 22,
     "metadata": {},
     "output_type": "execute_result"
    },
    {
     "data": {
      "image/png": "[encoded data removed]",
      "text/plain": [
       "<Figure size 432x288 with 1 Axes>"
      ]
     },
     "metadata": {
      "needs_background": "light"
     },
     "output_type": "display_data"
    }
   ],
   "source": [
    "tree_data['growth_space_type'].value_counts().plot(kind=\"bar\")"
   ]
  },
  {
   "cell_type": "markdown",
   "metadata": {},
   "source": [
    "## How to create a line chart of temporal and numerical data\n",
    "\n",
    "* "
   ]
  },
  {
   "cell_type": "code",
   "execution_count": 30,
   "metadata": {},
   "outputs": [
    {
     "data": {
      "text/html": [
       "<div>\n",
       "<style scoped>\n",
       "    .dataframe tbody tr th:only-of-type {\n",
       "        vertical-align: middle;\n",
       "    }\n",
       "\n",
       "    .dataframe tbody tr th {\n",
       "        vertical-align: top;\n",
       "    }\n",
       "\n",
       "    .dataframe thead th {\n",
       "        text-align: right;\n",
       "    }\n",
       "</style>\n",
       "<table border=\"1\" class=\"dataframe\">\n",
       "  <thead>\n",
       "    <tr style=\"text-align: right;\">\n",
       "      <th></th>\n",
       "      <th>PK</th>\n",
       "      <th>CCR</th>\n",
       "      <th>HIERARCHY</th>\n",
       "      <th>INCIDENTLOCATION</th>\n",
       "      <th>CLEAREDFLAG</th>\n",
       "      <th>INCIDENTNEIGHBORHOOD</th>\n",
       "      <th>INCIDENTZONE</th>\n",
       "      <th>INCIDENTHIERARCHYDESC</th>\n",
       "      <th>OFFENSES</th>\n",
       "      <th>INCIDENTTRACT</th>\n",
       "      <th>COUNCIL_DISTRICT</th>\n",
       "      <th>PUBLIC_WORKS_DIVISION</th>\n",
       "      <th>X</th>\n",
       "      <th>Y</th>\n",
       "    </tr>\n",
       "    <tr>\n",
       "      <th>INCIDENTTIME</th>\n",
       "      <th></th>\n",
       "      <th></th>\n",
       "      <th></th>\n",
       "      <th></th>\n",
       "      <th></th>\n",
       "      <th></th>\n",
       "      <th></th>\n",
       "      <th></th>\n",
       "      <th></th>\n",
       "      <th></th>\n",
       "      <th></th>\n",
       "      <th></th>\n",
       "      <th></th>\n",
       "      <th></th>\n",
       "    </tr>\n",
       "  </thead>\n",
       "  <tbody>\n",
       "    <tr>\n",
       "      <th>2016-10-26 04:00:00</th>\n",
       "      <td>2868421</td>\n",
       "      <td>16202072.0</td>\n",
       "      <td>99</td>\n",
       "      <td>2000 Block Centre AV Pittsburgh, PA 15219</td>\n",
       "      <td>Y</td>\n",
       "      <td>Crawford-Roberts</td>\n",
       "      <td>2</td>\n",
       "      <td>NaN</td>\n",
       "      <td>9124 Drug Investigation</td>\n",
       "      <td>305.0</td>\n",
       "      <td>6.0</td>\n",
       "      <td>3.0</td>\n",
       "      <td>-79.979979</td>\n",
       "      <td>40.443581</td>\n",
       "    </tr>\n",
       "    <tr>\n",
       "      <th>2016-11-25 18:42:00</th>\n",
       "      <td>2874934</td>\n",
       "      <td>16221357.0</td>\n",
       "      <td>99</td>\n",
       "      <td>Marne WY Pittsburgh, PA 15211</td>\n",
       "      <td>Y</td>\n",
       "      <td>Mount Washington</td>\n",
       "      <td>3</td>\n",
       "      <td>NaN</td>\n",
       "      <td>9999 Miscellaneous Report (No Crime)</td>\n",
       "      <td>1914.0</td>\n",
       "      <td>7.0</td>\n",
       "      <td>2.0</td>\n",
       "      <td>-79.947030</td>\n",
       "      <td>40.463145</td>\n",
       "    </tr>\n",
       "    <tr>\n",
       "      <th>2016-12-25 02:24:00</th>\n",
       "      <td>2881141</td>\n",
       "      <td>16239016.0</td>\n",
       "      <td>5</td>\n",
       "      <td>2200 Block Wilner DR Pittsburgh, PA 15221</td>\n",
       "      <td>N</td>\n",
       "      <td>Terrace Village</td>\n",
       "      <td>5</td>\n",
       "      <td>BURGLARY/FORCE ENT/RES</td>\n",
       "      <td>3502 Burglary.</td>\n",
       "      <td>510.0</td>\n",
       "      <td>9.0</td>\n",
       "      <td>2.0</td>\n",
       "      <td>-79.866830</td>\n",
       "      <td>40.453388</td>\n",
       "    </tr>\n",
       "    <tr>\n",
       "      <th>2016-04-07 11:30:00</th>\n",
       "      <td>2822209</td>\n",
       "      <td>16062438.0</td>\n",
       "      <td>11</td>\n",
       "      <td>1100 Block Dagmar AV Pittsburgh, PA 15216</td>\n",
       "      <td>N</td>\n",
       "      <td>Beechview</td>\n",
       "      <td>6</td>\n",
       "      <td>IDENTITY THEFT</td>\n",
       "      <td>4120 Identity Theft</td>\n",
       "      <td>1916.0</td>\n",
       "      <td>4.0</td>\n",
       "      <td>5.0</td>\n",
       "      <td>-80.023186</td>\n",
       "      <td>40.417259</td>\n",
       "    </tr>\n",
       "    <tr>\n",
       "      <th>2016-07-16 00:27:00</th>\n",
       "      <td>2844543</td>\n",
       "      <td>16131818.0</td>\n",
       "      <td>10</td>\n",
       "      <td>7500 Block Hamilton AV Pittsburgh, PA 15208</td>\n",
       "      <td>N</td>\n",
       "      <td>Homewood South</td>\n",
       "      <td>5</td>\n",
       "      <td>SIMPLE ASSAULT/INJURY</td>\n",
       "      <td>2702 Aggravated Assault.</td>\n",
       "      <td>1303.0</td>\n",
       "      <td>9.0</td>\n",
       "      <td>2.0</td>\n",
       "      <td>-79.892482</td>\n",
       "      <td>40.453422</td>\n",
       "    </tr>\n",
       "  </tbody>\n",
       "</table>\n",
       "</div>"
      ],
      "text/plain": [
       "                          PK         CCR  HIERARCHY  \\\n",
       "INCIDENTTIME                                          \n",
       "2016-10-26 04:00:00  2868421  16202072.0         99   \n",
       "2016-11-25 18:42:00  2874934  16221357.0         99   \n",
       "2016-12-25 02:24:00  2881141  16239016.0          5   \n",
       "2016-04-07 11:30:00  2822209  16062438.0         11   \n",
       "2016-07-16 00:27:00  2844543  16131818.0         10   \n",
       "\n",
       "                                                INCIDENTLOCATION CLEAREDFLAG  \\\n",
       "INCIDENTTIME                                                                   \n",
       "2016-10-26 04:00:00    2000 Block Centre AV Pittsburgh, PA 15219           Y   \n",
       "2016-11-25 18:42:00                Marne WY Pittsburgh, PA 15211           Y   \n",
       "2016-12-25 02:24:00    2200 Block Wilner DR Pittsburgh, PA 15221           N   \n",
       "2016-04-07 11:30:00    1100 Block Dagmar AV Pittsburgh, PA 15216           N   \n",
       "2016-07-16 00:27:00  7500 Block Hamilton AV Pittsburgh, PA 15208           N   \n",
       "\n",
       "                    INCIDENTNEIGHBORHOOD INCIDENTZONE   INCIDENTHIERARCHYDESC  \\\n",
       "INCIDENTTIME                                                                    \n",
       "2016-10-26 04:00:00     Crawford-Roberts            2                     NaN   \n",
       "2016-11-25 18:42:00     Mount Washington            3                     NaN   \n",
       "2016-12-25 02:24:00      Terrace Village            5  BURGLARY/FORCE ENT/RES   \n",
       "2016-04-07 11:30:00            Beechview            6          IDENTITY THEFT   \n",
       "2016-07-16 00:27:00       Homewood South            5   SIMPLE ASSAULT/INJURY   \n",
       "\n",
       "                                                 OFFENSES  INCIDENTTRACT  \\\n",
       "INCIDENTTIME                                                               \n",
       "2016-10-26 04:00:00               9124 Drug Investigation          305.0   \n",
       "2016-11-25 18:42:00  9999 Miscellaneous Report (No Crime)         1914.0   \n",
       "2016-12-25 02:24:00                        3502 Burglary.          510.0   \n",
       "2016-04-07 11:30:00                   4120 Identity Theft         1916.0   \n",
       "2016-07-16 00:27:00              2702 Aggravated Assault.         1303.0   \n",
       "\n",
       "                     COUNCIL_DISTRICT  PUBLIC_WORKS_DIVISION          X  \\\n",
       "INCIDENTTIME                                                              \n",
       "2016-10-26 04:00:00               6.0                    3.0 -79.979979   \n",
       "2016-11-25 18:42:00               7.0                    2.0 -79.947030   \n",
       "2016-12-25 02:24:00               9.0                    2.0 -79.866830   \n",
       "2016-04-07 11:30:00               4.0                    5.0 -80.023186   \n",
       "2016-07-16 00:27:00               9.0                    2.0 -79.892482   \n",
       "\n",
       "                             Y  \n",
       "INCIDENTTIME                    \n",
       "2016-10-26 04:00:00  40.443581  \n",
       "2016-11-25 18:42:00  40.463145  \n",
       "2016-12-25 02:24:00  40.453388  \n",
       "2016-04-07 11:30:00  40.417259  \n",
       "2016-07-16 00:27:00  40.453422  "
      ]
     },
     "execution_count": 30,
     "metadata": {},
     "output_type": "execute_result"
    }
   ],
   "source": [
    "# URL that points directly to the police blotter dataset \n",
    "URL = \"https://data.wprdc.org/datastore/dump/044f2016-1dfd-4ab0-bc1e-065da05fca2e\"\n",
    "\n",
    "# Open the data with data parsing true \n",
    "# and set the index to the column with time data\n",
    "police_data = pd.read_csv(URL, \n",
    "                          parse_dates=True, \n",
    "                          index_col='INCIDENTTIME')\n",
    "police_data.head()"
   ]
  },
  {
   "cell_type": "code",
   "execution_count": 41,
   "metadata": {},
   "outputs": [
    {
     "data": {
      "text/plain": [
       "<matplotlib.axes._subplots.AxesSubplot at 0x7ff70b71f940>"
      ]
     },
     "execution_count": 41,
     "metadata": {},
     "output_type": "execute_result"
    },
    {
     "data": {
      "image/png": "[encoded data removed]",
      "text/plain": [
       "<Figure size 432x288 with 1 Axes>"
      ]
     },
     "metadata": {
      "needs_background": "light"
     },
     "output_type": "display_data"
    }
   ],
   "source": [
    "police_data.loc['2016':'2018'].resample(\"M\").size().plot()"
   ]
  },
  {
   "cell_type": "code",
   "execution_count": null,
   "metadata": {},
   "outputs": [],
   "source": []
  }
 ],
 "metadata": {
  "kernelspec": {
   "display_name": "Python 3.7",
   "language": "python",
   "name": "python3"
  },
  "language_info": {
   "codemirror_mode": {
    "name": "ipython",
    "version": 3
   },
   "file_extension": ".py",
   "mimetype": "text/x-python",
   "name": "python",
   "nbconvert_exporter": "python",
   "pygments_lexer": "ipython3",
   "version": "3.7.0"
  }
 },
 "nbformat": 4,
 "nbformat_minor": 2
}
