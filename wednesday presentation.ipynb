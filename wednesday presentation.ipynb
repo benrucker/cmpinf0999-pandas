{
 "cells": [
  {
   "cell_type": "markdown",
   "metadata": {},
   "source": [
    "# The Best Neighborhood in Pittsburgh\n",
    "\n",
    "Our task was to figure out which neighborhood in Pittsburgh, PA is the best out of them all. "
   ]
  },
  {
   "cell_type": "markdown",
   "metadata": {},
   "source": [
    "## Metric\n",
    "\n",
    "We determined that the best way to quantify the 'best' neighborhood is to find the one that is the most happy! In order to determine happiness, we looked at a few key factors in determining a community's happiness. Our goal for our work here is to find a single quantified value for how happy any single neighborhood is.\n",
    "\n",
    "Let's set up the jupyter notebook using code, algorithms, and magic:"
   ]
  },
  {
   "cell_type": "code",
   "execution_count": null,
   "metadata": {},
   "outputs": [],
   "source": [
    "import sys\n",
    "import pandas as pd\n",
    "!{sys.executable} -m pip install geopy --user\n",
    "from geopy.geocoders import Nominatim\n",
    "import geopy\n",
    "%matplotlib inline\n",
    "import matplotlib.pyplot as plt"
   ]
  },
  {
   "cell_type": "markdown",
   "metadata": {},
   "source": [
    "## Key Happiness Factor\n",
    "\n",
    "When it comes to happiness, leisure is a top factor. Within leisure, we found multiple amenities that contributed towards the possible leisure of a neighborhood.\n",
    "\n",
    "## Leisure\n",
    "\n",
    "One amenity is recreation, such as parks and playgrounds. We all know that `more slides = more happy`. So, we looked at the number of documented slides in every neighborhood. We included two types of slides."
   ]
  },
  {
   "cell_type": "markdown",
   "metadata": {},
   "source": [
    "#### Slide Type 1: Playground Slides\n",
    "\n",
    "Who didn't love going down the slides at a playground as a kid? blah blah\n",
    "\n",
    "Let's grab the documented playground slides from the WPRDC"
   ]
  },
  {
   "cell_type": "code",
   "execution_count": null,
   "metadata": {},
   "outputs": [],
   "source": [
    "playgrounds = pd.read_csv(\"https://data.wprdc.org/dataset/640add54-b0e1-4abb-a232-f5092b243ee0/resource/40097711-aa25-47d9-b0fb-920cace3afa0/download/opendata-pubworks-play-area-listing-2015.csv\")\n",
    "playgrounds.head(3)"
   ]
  },
  {
   "cell_type": "markdown",
   "metadata": {},
   "source": [
    "That's not very useful on its own and stuff so let's pandas"
   ]
  },
  {
   "cell_type": "code",
   "execution_count": null,
   "metadata": {},
   "outputs": [],
   "source": [
    "playgrounds.groupby('Neighborhood').count().head(3)"
   ]
  },
  {
   "cell_type": "markdown",
   "metadata": {},
   "source": [
    "Better! But not quite. All these numbers are kinda strange and inconsistent. But, each play area is only named once, so by counting the names of play areas, we can find the number of play areas in a given neighborhood."
   ]
  },
  {
   "cell_type": "code",
   "execution_count": null,
   "metadata": {},
   "outputs": [],
   "source": [
    "playgrounds.groupby(\"Neighborhood\").count().loc[:,\"Play area name\"][:7]"
   ]
  },
  {
   "cell_type": "markdown",
   "metadata": {},
   "source": [
    "And we can sort it:"
   ]
  },
  {
   "cell_type": "code",
   "execution_count": null,
   "metadata": {},
   "outputs": [],
   "source": [
    "playground_series = playgrounds.groupby(\"Neighborhood\").count().loc[:,\"Play area name\"].sort_values(ascending=False)\n",
    "playground_series[:7]"
   ]
  },
  {
   "cell_type": "markdown",
   "metadata": {},
   "source": [
    "Let's scale it down to a number that we can use later."
   ]
  },
  {
   "cell_type": "code",
   "execution_count": null,
   "metadata": {},
   "outputs": [],
   "source": [
    "max_val = playground_series[0]\n",
    "playground_values = playground_series.divide(max_val)\n",
    "playground_values[:7]"
   ]
  },
  {
   "cell_type": "markdown",
   "metadata": {},
   "source": [
    "\n",
    "\n",
    "---"
   ]
  },
  {
   "cell_type": "markdown",
   "metadata": {},
   "source": [
    "#### Slide Type 2: Landslides\n",
    "\n",
    "Slides are more fun when they're on the ground. So, we got the dataset for _land_slides. Let's take a look."
   ]
  },
  {
   "cell_type": "code",
   "execution_count": null,
   "metadata": {},
   "outputs": [],
   "source": [
    "landslides = pd.read_csv(\"https://data.wprdc.org/dataset/7db7daf4-1fcc-4ad6-ad5e-6ed21a45b154/resource/dde1f413-c849-413c-b791-0f861bf219ce/download/globallandslides.csv\")\n",
    "pgh_landslides = landslides.groupby('ev_id').filter(lambda x: x['gaz_point'] == 'Pittsburgh')\n",
    "pgh_landslides.head(3)"
   ]
  },
  {
   "cell_type": "markdown",
   "metadata": {},
   "source": [
    "Cool! But what we really need from this dataset are the latitude and longitude. We can then use the package geopy that we installed earlier to get the neigborhood names from the coordinates."
   ]
  },
  {
   "cell_type": "code",
   "execution_count": null,
   "metadata": {},
   "outputs": [],
   "source": [
    "geolocator = Nominatim(user_agent=\"cmpinf0999-bdr\")\n",
    "\n",
    "locations = pgh_landslides.loc[:,'latitude':'longitude'].to_string(index=False,index_names=False)\n",
    "locations = [x.replace(' ', ', ') for x in locations.split(\"\\n\")[1:]]\n",
    "\n",
    "neighborhoods = []\n",
    "for loc in locations:\n",
    "    response = str(geolocator.reverse(loc))\n",
    "    #print(response)\n",
    "    info = response.split(', ')\n",
    "    if len(info[0]) == 4 or len(info[0]) == 3:\n",
    "        neighborhoods.append(info[2])\n",
    "    else:\n",
    "        neighborhoods.append(info[max(info.index(\"Allegheny County\") - 2,1)])\n",
    "neighborhoods[:10]"
   ]
  },
  {
   "cell_type": "markdown",
   "metadata": {},
   "source": [
    "Now, we can count the number of landslides that happened in each neighborhood."
   ]
  },
  {
   "cell_type": "code",
   "execution_count": null,
   "metadata": {},
   "outputs": [],
   "source": [
    "landslide_counts = pd.Series(neighborhoods).value_counts()\n",
    "landslide_counts[:7]"
   ]
  },
  {
   "cell_type": "markdown",
   "metadata": {},
   "source": [
    "Let's scale it down again."
   ]
  },
  {
   "cell_type": "code",
   "execution_count": null,
   "metadata": {},
   "outputs": [],
   "source": [
    "max_val = landslide_counts[0]\n",
    "landslide_values = pd.Series(landslide_counts).divide(max_val)\n",
    "landslide_values[:7]"
   ]
  },
  {
   "cell_type": "markdown",
   "metadata": {},
   "source": []
  },
  {
   "cell_type": "markdown",
   "metadata": {},
   "source": [
    "## Steps\n",
    "\n",
    "Another amenity we found was the number of steps in every neighborhood. Since the average human being hates steps, we concluded that `less steps = more happy`. One might argue that some people _do_ like steps, such as olympians, because exercise! That person would be right: **but**, we also concluded that the number of olympians living in the neighborhoods of Pittsburgh is insignificantly small. \n",
    "\n",
    "There are a total of 33 olympic athletes who were born in Pittsburgh (https://www.sports-reference.com/olympics/friv/birthplaces.cgi?id=7645). With the current population in Pittsburgh of 302,000, that means that olympians account for a maximum of 0.001% of the population (http://worldpopulationreview.com/us-cities/pittsburgh-population/). Therefore, we can count steps as a measure of unhappiness."
   ]
  },
  {
   "cell_type": "code",
   "execution_count": null,
   "metadata": {},
   "outputs": [],
   "source": [
    "providers = pd.read_csv(\"https://data.wprdc.org/dataset/ae1f7cda-5e15-4a8a-a5b2-2e4803f1500a/resource/c2df1e6f-5563-4e53-9de8-b0e4c7d2cb93/download/pittsburghispsbyblock.csv\",index_col='Provider_Id')\n",
    "steps = pd.read_csv(\"https://data.wprdc.org/datastore/dump/43f40ca4-2211-4a12-8b4f-4d052662bb64\",index_col='id')"
   ]
  },
  {
   "cell_type": "code",
   "execution_count": null,
   "metadata": {},
   "outputs": [],
   "source": [
    "steps.groupby(\"neighborhood\").sum()['number_of_steps'].sort_values(ascending=False)"
   ]
  },
  {
   "cell_type": "code",
   "execution_count": null,
   "metadata": {},
   "outputs": [],
   "source": [
    "\n",
    "stepsDF = steps.groupby('neighborhood').sum()\n",
    "stepsDF = stepsDF.sort_values(['number_of_steps'], ascending = [False])\n",
    "stepsDF = stepsDF.filter(items = ['name', 'number_of_steps', 'neighborhood'])\n",
    "stepsDF"
   ]
  },
  {
   "cell_type": "code",
   "execution_count": null,
   "metadata": {},
   "outputs": [],
   "source": [
    "stepsDF['metric'] = stepsDF['number_of_steps']/3666.0\n",
    "stepsDF"
   ]
  },
  {
   "cell_type": "code",
   "execution_count": null,
   "metadata": {},
   "outputs": [],
   "source": [
    "plt.style.use('seaborn')\n",
    "stepsDF[\"number_of_steps\"].plot.bar(figsize = (30, 4))"
   ]
  },
  {
   "cell_type": "markdown",
   "metadata": {},
   "source": [
    "## Internet\n",
    "\n",
    "Up next, an amenity that we can all relate to is _internet speed_. Better internet makes people more happy, so we took a look at average internet speeds in each neighborhood."
   ]
  },
  {
   "cell_type": "code",
   "execution_count": null,
   "metadata": {},
   "outputs": [],
   "source": [
    "providers.head()"
   ]
  },
  {
   "cell_type": "code",
   "execution_count": null,
   "metadata": {},
   "outputs": [],
   "source": [
    "providersDF = providers.filter(items = ['Neighborhood', 'MaxAdDown', 'MaxAdUp'])\n",
    "providersDF = providersDF.groupby(\"Neighborhood\").sum().sort_values(['MaxAdDown'], ascending = False)\n",
    "providersDF['metricDown'] = providersDF['MaxAdDown']/80796.768\n",
    "providersDF['metricUp'] = providersDF['MaxAdUp']/32158.964\n",
    "\n",
    "providersDF"
   ]
  },
  {
   "cell_type": "code",
   "execution_count": null,
   "metadata": {},
   "outputs": [],
   "source": [
    "providersDF[\"MaxAdUp\"].plot.bar(figsize = (25, 4))"
   ]
  },
  {
   "cell_type": "markdown",
   "metadata": {},
   "source": [
    "# Conclusions\n",
    "\n",
    "Add all them numbers up!"
   ]
  },
  {
   "cell_type": "code",
   "execution_count": null,
   "metadata": {},
   "outputs": [],
   "source": [
    "# add slides together\n",
    "agg_slide_vals = playground_values.add(landslide_values, fill_value=0)\n",
    "agg_slide_vals.head()"
   ]
  },
  {
   "cell_type": "code",
   "execution_count": null,
   "metadata": {},
   "outputs": [],
   "source": [
    "# sort so we see who's on top\n",
    "agg_slide_vals = agg_slide_vals.sort_values(ascending=False)\n",
    "agg_slide_vals.head(10)"
   ]
  },
  {
   "cell_type": "code",
   "execution_count": null,
   "metadata": {},
   "outputs": [],
   "source": [
    "total = agg_slide_vals.add(providersDF.loc[:,'metricDown'], fill_value=0)\n",
    "total = total.subtract(stepsDF.loc[:,'metric'])"
   ]
  },
  {
   "cell_type": "code",
   "execution_count": null,
   "metadata": {},
   "outputs": [],
   "source": [
    "plt.style.use('seaborn')\n",
    "total.plot.bar(figsize = (30, 4))"
   ]
  },
  {
   "cell_type": "code",
   "execution_count": null,
   "metadata": {},
   "outputs": [],
   "source": [
    "total = total.sort_values(ascending=False)\n",
    "total[:10].plot.bar()"
   ]
  },
  {
   "cell_type": "code",
   "execution_count": null,
   "metadata": {},
   "outputs": [],
   "source": [
    "total[:10]"
   ]
  },
  {
   "cell_type": "code",
   "execution_count": null,
   "metadata": {},
   "outputs": [],
   "source": []
  }
 ],
 "metadata": {
  "kernelspec": {
   "display_name": "Python 3.7",
   "language": "python",
   "name": "python3"
  },
  "language_info": {
   "codemirror_mode": {
    "name": "ipython",
    "version": 3
   },
   "file_extension": ".py",
   "mimetype": "text/x-python",
   "name": "python",
   "nbconvert_exporter": "python",
   "pygments_lexer": "ipython3",
   "version": "3.7.0"
  }
 },
 "nbformat": 4,
 "nbformat_minor": 2
}
